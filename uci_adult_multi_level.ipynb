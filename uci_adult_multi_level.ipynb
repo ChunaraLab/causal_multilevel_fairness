{
 "cells": [
  {
   "cell_type": "code",
   "execution_count": 22,
   "metadata": {},
   "outputs": [],
   "source": [
    "import pandas as pd\n",
    "import numpy as np\n",
    "from sklearn.model_selection import train_test_split\n",
    "from sklearn.metrics import confusion_matrix, classification_report, accuracy_score\n",
    "import matplotlib.pyplot as plt\n",
    "from matplotlib import rc\n",
    "from sklearn.linear_model import LogisticRegression\n",
    "from sklearn.linear_model import LinearRegression\n",
    "from sklearn.metrics import mean_squared_error\n",
    "import seaborn as sns\n",
    "import warnings\n",
    "import matplotlib\n",
    "import matplotlib.pyplot as plt\n",
    "import numpy as np\n",
    "\n",
    "matplotlib.rcParams['pdf.fonttype'] = 42\n",
    "matplotlib.rcParams['ps.fonttype'] = 42\n",
    "warnings.filterwarnings(\"ignore\")"
   ]
  },
  {
   "cell_type": "code",
   "execution_count": 23,
   "metadata": {
    "tags": []
   },
   "outputs": [],
   "source": [
    "def get_data(filename,test_size=0.25):\n",
    "    '''\n",
    "    Read data from file\n",
    "    Input:\n",
    "        filename: name of the csv file to read data from\n",
    "        test_size: proportion of data to be used for testing\n",
    "    Output: pd.Dataframe\n",
    "        train,test: treain and test dataframes\n",
    "    '''\n",
    "    data_ = pd.read_csv(filename)\n",
    "    train = data_.sample(frac=0.75, random_state=0)\n",
    "    test = data_.drop(train.index)\n",
    "    return train,test\n",
    "train,test = get_data(\"./adult_processed.csv\")"
   ]
  },
  {
   "cell_type": "code",
   "execution_count": 24,
   "metadata": {},
   "outputs": [],
   "source": [
    "def fit_models(data):\n",
    "    '''\n",
    "    Fit models for each covariate using the causal parents from the DAG\n",
    "    Input: pd.Dataframe\n",
    "        data: A pandas dataframe to train the model on\n",
    "    Output:\n",
    "        model_Y: A model for the output (Y)\n",
    "        A dictionary containing the coefficients for all the covariates\n",
    "    '''\n",
    "    #Train a model for M\n",
    "    # M ~ A+C\n",
    "    model_M = LinearRegression(fit_intercept=True)\n",
    "    model_M.fit(data[['male','race','age','native_country']],data[['married']])\n",
    "    beta_M = np.concatenate((model_M.intercept_,model_M.coef_[0]),axis=0)\n",
    "\n",
    "    #Train a model for L\n",
    "    #L ~ A+C+M\n",
    "    model_L = LinearRegression()\n",
    "    model_L.fit(data[['male','race','age','native_country','married']],data[['higher_edu']])\n",
    "    beta_L = np.concatenate((model_L.intercept_,model_L.coef_[0]),axis=0)\n",
    "\n",
    "    #Train a model for R_1\n",
    "    #R_1 ~ A+C+M+L\n",
    "    model_R_1 = LinearRegression(fit_intercept=True)\n",
    "    model_R_1.fit(data[['male','race','age','native_country','married','higher_edu']],data[['managerial_occ']])\n",
    "    beta_R_1 = np.concatenate((model_R_1.intercept_,model_R_1.coef_[0]),axis=0)\n",
    "\n",
    "    #Train a model for R_2\n",
    "    #R_2 ~ A+C+M+L\n",
    "    model_R_2 = LinearRegression(fit_intercept=True)\n",
    "    model_R_2.fit(data[['male','race','age','native_country','married','higher_edu']],data[['high_hours']])\n",
    "    beta_R_2 = np.concatenate((model_R_2.intercept_,model_R_2.coef_[0]),axis=0)\n",
    "\n",
    "    #Train a model for R_3\n",
    "    #R_3 ~ A+C+M+L\n",
    "    model_R_3 = LinearRegression(fit_intercept=True)\n",
    "    model_R_3.fit(data[['male','race','age','native_country','married','higher_edu']],data[['gov_jobs']])\n",
    "    beta_R_3 = np.concatenate((model_R_3.intercept_,model_R_3.coef_[0]),axis=0)\n",
    "\n",
    "    #Train a model for Y\n",
    "    #Y ~ P + I + AI\n",
    "    model_Y = LogisticRegression(penalty='l2',solver='saga', fit_intercept=True)\n",
    "    model_Y = model_Y.fit(data[['male','race','age','native_country','married','higher_edu','managerial_occ','high_hours','gov_jobs']],data[['high_income']])\n",
    "    beta_Y = np.concatenate((model_Y.intercept_,model_Y.coef_[0]),axis=0)\n",
    "    return model_Y,{'M':beta_M, 'L':beta_L, 'R_1':beta_R_1, 'R_2':beta_R_2, 'R_3':beta_R_3, 'Y':beta_Y}\n",
    "\n",
    "\n",
    "def classifiers_all(train):\n",
    "    '''\n",
    "    Train classifiers for all the covariates\n",
    "    Input: pd.Dataframe\n",
    "        dataframe for training dataset\n",
    "    Output:\n",
    "        model for Y\n",
    "        A dictionary with coefficients of models for each covariate\n",
    "    '''\n",
    "    model_Y, beta_lm = fit_models(train)\n",
    "\n",
    "    return model_Y,beta_lm\n",
    "model_Y,beta_lm = classifiers_all(train)\n"
   ]
  },
  {
   "cell_type": "code",
   "execution_count": 25,
   "metadata": {},
   "outputs": [],
   "source": [
    "def test_model(model,data_test):\n",
    "    '''\n",
    "    Obtain predictions\n",
    "    Input: model to use for obtaining predictions, dataframe of test dataset\n",
    "    Output: predictions\n",
    "    '''\n",
    "    preds = model.predict_proba(data_test[['male','race','age','native_country','married','higher_edu','managerial_occ','high_hours','gov_jobs']])\n",
    "    return preds"
   ]
  },
  {
   "cell_type": "code",
   "execution_count": 26,
   "metadata": {},
   "outputs": [],
   "source": [
    "def random_logit(x):\n",
    "    z = 1./(1+np.exp(-x))\n",
    "    s = np.random.binomial(n=1, p=z)\n",
    "    return s\n",
    "\n",
    "def gen_counterfactual(data,beta):\n",
    "    '''\n",
    "    Generate counterfactual data using coefficients from models for each covariate\n",
    "    '''\n",
    "    original = data.copy()\n",
    "    original['married'] = beta['M'][0] + beta['M'][1]*original['male'] + beta['M'][2]*original['race'] + beta['M'][3]*original['age'] + beta['M'][4]*original['native_country']\n",
    "\n",
    "    original['higher_edu'] = beta['L'][0] + beta['L'][1]*original['male'] + beta['L'][2]*original['race'] + beta['L'][3]*original['age'] + beta['L'][4]*original['native_country'] + beta['L'][5]*original['married']\n",
    "\n",
    "    original['managerial_occ'] = beta['R_1'][0] + beta['R_1'][1]*original['male'] + beta['R_1'][2]*original['race'] + beta['R_1'][3]*original['age'] + beta['R_1'][4]*original['native_country'] + beta['R_1'][5]*original['married'] + beta['R_1'][6]*original['higher_edu']\n",
    "\n",
    "    original['high_hours'] = beta['R_2'][0] + beta['R_2'][1]*original['male'] + beta['R_2'][2]*original['race'] + beta['R_2'][3]*original['age'] + beta['R_2'][4]*original['native_country'] + beta['R_2'][5]*original['married'] + beta['R_2'][6]*original['higher_edu']\n",
    "\n",
    "    original['gov_jobs'] = beta['R_3'][0] + beta['R_3'][1]*original['male'] + beta['R_3'][2]*original['race'] + beta['R_3'][3]*original['age'] + beta['R_3'][4]*original['native_country'] + beta['R_3'][5]*original['married'] + beta['R_3'][6]*original['higher_edu']\n",
    "\n",
    "    original['high_income'] = random_logit(beta['Y'][0] + beta['Y'][1]*original['male'] + beta['Y'][2]*original['race'] + beta['Y'][3]*original['age'] + beta['Y'][4]*original['native_country'] + beta['Y'][5]*original['married'] + beta['Y'][6]*original['higher_edu'] + beta['Y'][7]*original['managerial_occ'] + beta['Y'][8]*original['high_hours'] + beta['Y'][9]*original['gov_jobs'])\n",
    "\n",
    "    counterfactual_data = data.copy()\n",
    "    counterfactual_data['married'] = counterfactual_data['married'].apply(lambda x: 6 if x==1 else x)\n",
    "\n",
    "    counterfactual_data['male'] = counterfactual_data['male'].apply(lambda x: 0 if x==1 else 1)\n",
    "\n",
    "    counterfactual_data['higher_edu'] = beta['L'][0] + beta['L'][1]*counterfactual_data['male'] + beta['L'][2]*counterfactual_data['race'] + beta['L'][3]*counterfactual_data['age'] + beta['L'][4]*counterfactual_data['native_country'] + beta['L'][5]*counterfactual_data['married']\n",
    "\n",
    "    counterfactual_data['managerial_occ'] = beta['R_1'][0] + beta['R_1'][1]*counterfactual_data['male'] + beta['R_1'][2]*counterfactual_data['race'] + beta['R_1'][3]*counterfactual_data['age'] + beta['R_1'][4]*counterfactual_data['native_country'] + beta['R_1'][5]*counterfactual_data['married'] + beta['R_1'][6]*counterfactual_data['higher_edu']\n",
    "\n",
    "    counterfactual_data['high_hours'] = beta['R_2'][0] + beta['R_2'][1]*counterfactual_data['male'] + beta['R_2'][2]*counterfactual_data['race'] + beta['R_2'][3]*counterfactual_data['age'] + beta['R_2'][4]*counterfactual_data['native_country'] + beta['R_2'][5]*counterfactual_data['married'] + beta['R_2'][6]*counterfactual_data['higher_edu']\n",
    "\n",
    "    counterfactual_data['gov_jobs'] = beta['R_3'][0] + beta['R_3'][1]*counterfactual_data['male'] + beta['R_3'][2]*counterfactual_data['race'] + beta['R_3'][3]*counterfactual_data['age'] + beta['R_3'][4]*counterfactual_data['native_country'] + beta['R_3'][5]*counterfactual_data['married'] + beta['R_3'][6]*counterfactual_data['higher_edu']\n",
    "\n",
    "    counterfactual_data['high_income'] = random_logit(beta['Y'][0] + beta['Y'][1]*counterfactual_data['male'] + beta['Y'][2]*counterfactual_data['race'] + beta['Y'][3]*counterfactual_data['age'] + beta['Y'][4]*counterfactual_data['native_country'] + beta['Y'][5]*counterfactual_data['married'] + beta['Y'][6]*counterfactual_data['higher_edu'] + beta['Y'][7]*counterfactual_data['managerial_occ'] + beta['Y'][8]*counterfactual_data['high_hours'] + beta['Y'][9]*counterfactual_data['gov_jobs'])\n",
    "\n",
    "    counterfactual_pop = data.copy()\n",
    "    temp = list(counterfactual_pop['native_country'])\n",
    "    for i in temp:\n",
    "        if i != 39:\n",
    "            i = 39\n",
    "    counterfactual_pop['native_country'] = temp\n",
    "    counterfactual_pop['managerial_occ'] = beta['R_1'][0] + beta['R_1'][1]*counterfactual_pop['male'] + beta['R_1'][2]*counterfactual_pop['race'] + beta['R_1'][3]*counterfactual_pop['age'] + beta['R_1'][4]*counterfactual_pop['native_country'] + beta['R_1'][5]*counterfactual_pop['married'] + beta['R_1'][6]*counterfactual_pop['higher_edu']\n",
    "\n",
    "    counterfactual_pop['high_hours'] = beta['R_2'][0] + beta['R_2'][1]*counterfactual_pop['male'] + beta['R_2'][2]*counterfactual_pop['race'] + beta['R_2'][3]*counterfactual_pop['age'] + beta['R_2'][4]*counterfactual_pop['native_country'] + beta['R_2'][5]*counterfactual_pop['married'] + beta['R_2'][6]*counterfactual_pop['higher_edu']\n",
    "\n",
    "    counterfactual_pop['gov_jobs'] = beta['R_3'][0] + beta['R_3'][1]*counterfactual_pop['male'] + beta['R_3'][2]*counterfactual_pop['race'] + beta['R_3'][3]*counterfactual_pop['age'] + beta['R_3'][4]*counterfactual_pop['native_country'] + beta['R_3'][5]*counterfactual_pop['married'] + beta['R_3'][6]*counterfactual_pop['higher_edu']\n",
    "\n",
    "    counterfactual_pop['high_income'] = random_logit(beta['Y'][0] + beta['Y'][1]*counterfactual_pop['male'] + beta['Y'][2]*counterfactual_pop['race'] + beta['Y'][3]*counterfactual_pop['age'] + beta['Y'][4]*counterfactual_pop['native_country'] + beta['Y'][5]*counterfactual_pop['married'] + beta['Y'][6]*counterfactual_pop['higher_edu'] + beta['Y'][7]*counterfactual_pop['managerial_occ'] + beta['Y'][8]*counterfactual_pop['high_hours'] + beta['Y'][9]*counterfactual_pop['gov_jobs'])\n",
    "\n",
    "    counterfactual_pop_indi = data.copy()\n",
    "    temp = list(counterfactual_pop_indi['native_country'])\n",
    "    for i in temp:\n",
    "        if i !=39 :\n",
    "            i=39\n",
    "\n",
    "    counterfactual_pop_indi['native_country'] = temp\n",
    "    counterfactual_pop_indi['male'] = counterfactual_pop_indi['male'].apply(lambda x: 0 if x==1 else 1)\n",
    "    counterfactual_pop['married'] = counterfactual_pop['married'].apply(lambda x: 6 if x==1 else x)\n",
    "\n",
    "    counterfactual_pop_indi['managerial_occ'] = beta['R_1'][0] + beta['R_1'][1]*counterfactual_pop_indi['male'] + beta['R_1'][2]*counterfactual_pop_indi['race'] + beta['R_1'][3]*counterfactual_pop_indi['age'] + beta['R_1'][4]*counterfactual_pop_indi['native_country'] + beta['R_1'][5]*counterfactual_pop_indi['married'] + beta['R_1'][6]*counterfactual_pop_indi['higher_edu']\n",
    "\n",
    "    counterfactual_pop_indi['high_hours'] = beta['R_2'][0] + beta['R_2'][1]*counterfactual_pop_indi['male'] + beta['R_2'][2]*counterfactual_pop_indi['race'] + beta['R_2'][3]*counterfactual_pop_indi['age'] + beta['R_2'][4]*counterfactual_pop_indi['native_country'] + beta['R_2'][5]*counterfactual_pop_indi['married'] + beta['R_2'][6]*counterfactual_pop_indi['higher_edu']\n",
    "\n",
    "    counterfactual_pop_indi['gov_jobs'] = beta['R_3'][0] + beta['R_3'][1]*counterfactual_pop_indi['male'] + beta['R_3'][2]*counterfactual_pop_indi['race'] + beta['R_3'][3]*counterfactual_pop_indi['age'] + beta['R_3'][4]*counterfactual_pop_indi['native_country'] + beta['R_3'][5]*counterfactual_pop_indi['married'] + beta['R_3'][6]*counterfactual_pop_indi['higher_edu']\n",
    "\n",
    "    counterfactual_pop_indi['high_income'] = random_logit(beta['Y'][0] + beta['Y'][1]*counterfactual_pop_indi['male'] + beta['Y'][2]*counterfactual_pop_indi['race'] + beta['Y'][3]*counterfactual_pop_indi['age'] + beta['Y'][4]*counterfactual_pop_indi['native_country'] + beta['Y'][5]*counterfactual_pop_indi['married'] + beta['Y'][6]*counterfactual_pop_indi['higher_edu'] + beta['Y'][7]*counterfactual_pop_indi['managerial_occ'] + beta['Y'][8]*counterfactual_pop_indi['high_hours'] + beta['Y'][9]*counterfactual_pop_indi['gov_jobs'])\n",
    "\n",
    "    return original,counterfactual_data,counterfactual_pop,counterfactual_pop_indi\n",
    "    "
   ]
  },
  {
   "cell_type": "code",
   "execution_count": 27,
   "metadata": {},
   "outputs": [],
   "source": [
    "original,counterfactual_data,counterfactual_pop,counterfactual_pop_indi = gen_counterfactual(train,beta_lm)"
   ]
  },
  {
   "cell_type": "code",
   "execution_count": 28,
   "metadata": {},
   "outputs": [],
   "source": [
    "model_original,beta_original = classifiers_all(original)\n",
    "preds_original = test_model(model_original,test)\n"
   ]
  },
  {
   "cell_type": "code",
   "execution_count": 29,
   "metadata": {},
   "outputs": [],
   "source": [
    "model_counterfactual,beta_counterfactual = classifiers_all(counterfactual_data)\n",
    "preds_counterfactual = test_model(model_counterfactual,test)\n"
   ]
  },
  {
   "cell_type": "code",
   "execution_count": 30,
   "metadata": {},
   "outputs": [],
   "source": [
    "model_counterfactual_pop,beta_counterfactual_pop = classifiers_all(counterfactual_pop)\n",
    "preds_counterfactual_pop = test_model(model_counterfactual_pop,test)\n"
   ]
  },
  {
   "cell_type": "code",
   "execution_count": 31,
   "metadata": {},
   "outputs": [],
   "source": [
    "model_counterfactual_pop_indi,beta_counterfactual_pop_indi = classifiers_all(counterfactual_pop_indi)\n",
    "preds_counterfactual_pop_indi = test_model(model_counterfactual_pop_indi,test)\n"
   ]
  },
  {
   "cell_type": "code",
   "execution_count": 32,
   "metadata": {
    "tags": []
   },
   "outputs": [
    {
     "data": {
      "image/png": "[encoded data removed]",
      "text/plain": [
       "<Figure size 432x288 with 1 Axes>"
      ]
     },
     "metadata": {
      "needs_background": "light"
     },
     "output_type": "display_data"
    }
   ],
   "source": [
    "plt.figure()\n",
    "colors = ('#1A85FF', '#FE6100', '#FFB000', '#785EF0', '#D41159')\n",
    "\n",
    "sns.distplot(preds_original[:,1],hist=False , color=\"#785EF0\",kde_kws={'alpha':1,'linewidth':3}, label=r\"$\\hat{Y}_{fair}$\")\n",
    "sns.distplot(preds_counterfactual_pop[:,1],hist=False, color=\"red\",kde_kws={'alpha':1,'linewidth':3} ,label=r\"$\\hat{Y}(a_i')$\")\n",
    "sns.distplot(preds_counterfactual[:,1] ,hist=False, color=\"green\", kde_kws={'alpha':1,'linewidth':3},label=r\"$\\hat{Y}(a_p')$\")\n",
    "sns.distplot(preds_counterfactual_pop_indi[:,1],hist=False, color=\"black\",kde_kws={'alpha':1,'linewidth':3}, label=r\"$\\hat{Y}(a_i',a_p')$\")\n",
    "\n",
    "plt.rcParams['font.size'] = 17\n",
    "plt.rcParams['legend.fontsize'] = 14\n",
    "plt.axis([-0.25, 1.25, 0, 4.5])\n",
    "plt.ylabel(\"Density\")\n",
    "plt.legend(loc='best')\n",
    "plt.show()"
   ]
  },
  {
   "cell_type": "code",
   "execution_count": null,
   "metadata": {},
   "outputs": [],
   "source": []
  }
 ],
 "metadata": {
  "kernelspec": {
   "display_name": "Python 3",
   "language": "python",
   "name": "python3"
  },
  "language_info": {
   "codemirror_mode": {
    "name": "ipython",
    "version": 3
   },
   "file_extension": ".py",
   "mimetype": "text/x-python",
   "name": "python",
   "nbconvert_exporter": "python",
   "pygments_lexer": "ipython3",
   "version": "3.8.8"
  }
 },
 "nbformat": 4,
 "nbformat_minor": 4
}
